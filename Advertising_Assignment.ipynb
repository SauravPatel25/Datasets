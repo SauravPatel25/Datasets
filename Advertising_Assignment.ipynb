{
 "cells": [
  {
   "cell_type": "code",
   "execution_count": 1,
   "id": "3652c603",
   "metadata": {},
   "outputs": [],
   "source": [
    "import pandas as pd\n",
    "import numpy as np\n",
    "import seaborn as sb\n",
    "import matplotlib.pyplot as plt\n",
    "import warnings \n",
    "warnings.filterwarnings('ignore')"
   ]
  },
  {
   "cell_type": "code",
   "execution_count": 2,
   "id": "95a9d75f",
   "metadata": {},
   "outputs": [
    {
     "data": {
      "text/html": [
       "<div>\n",
       "<style scoped>\n",
       "    .dataframe tbody tr th:only-of-type {\n",
       "        vertical-align: middle;\n",
       "    }\n",
       "\n",
       "    .dataframe tbody tr th {\n",
       "        vertical-align: top;\n",
       "    }\n",
       "\n",
       "    .dataframe thead th {\n",
       "        text-align: right;\n",
       "    }\n",
       "</style>\n",
       "<table border=\"1\" class=\"dataframe\">\n",
       "  <thead>\n",
       "    <tr style=\"text-align: right;\">\n",
       "      <th></th>\n",
       "      <th>Unnamed: 0</th>\n",
       "      <th>TV</th>\n",
       "      <th>radio</th>\n",
       "      <th>newspaper</th>\n",
       "      <th>sales</th>\n",
       "    </tr>\n",
       "  </thead>\n",
       "  <tbody>\n",
       "    <tr>\n",
       "      <th>0</th>\n",
       "      <td>1</td>\n",
       "      <td>230.1</td>\n",
       "      <td>37.8</td>\n",
       "      <td>69.2</td>\n",
       "      <td>22.1</td>\n",
       "    </tr>\n",
       "    <tr>\n",
       "      <th>1</th>\n",
       "      <td>2</td>\n",
       "      <td>44.5</td>\n",
       "      <td>39.3</td>\n",
       "      <td>45.1</td>\n",
       "      <td>10.4</td>\n",
       "    </tr>\n",
       "    <tr>\n",
       "      <th>2</th>\n",
       "      <td>3</td>\n",
       "      <td>17.2</td>\n",
       "      <td>45.9</td>\n",
       "      <td>69.3</td>\n",
       "      <td>9.3</td>\n",
       "    </tr>\n",
       "    <tr>\n",
       "      <th>3</th>\n",
       "      <td>4</td>\n",
       "      <td>151.5</td>\n",
       "      <td>41.3</td>\n",
       "      <td>58.5</td>\n",
       "      <td>18.5</td>\n",
       "    </tr>\n",
       "    <tr>\n",
       "      <th>4</th>\n",
       "      <td>5</td>\n",
       "      <td>180.8</td>\n",
       "      <td>10.8</td>\n",
       "      <td>58.4</td>\n",
       "      <td>12.9</td>\n",
       "    </tr>\n",
       "  </tbody>\n",
       "</table>\n",
       "</div>"
      ],
      "text/plain": [
       "   Unnamed: 0     TV  radio  newspaper  sales\n",
       "0           1  230.1   37.8       69.2   22.1\n",
       "1           2   44.5   39.3       45.1   10.4\n",
       "2           3   17.2   45.9       69.3    9.3\n",
       "3           4  151.5   41.3       58.5   18.5\n",
       "4           5  180.8   10.8       58.4   12.9"
      ]
     },
     "execution_count": 2,
     "metadata": {},
     "output_type": "execute_result"
    }
   ],
   "source": [
    "#to load dataset of advertising\n",
    "df=pd.read_csv('advertising.csv')\n",
    "df.head()"
   ]
  },
  {
   "cell_type": "code",
   "execution_count": 3,
   "id": "fb7f6f78",
   "metadata": {},
   "outputs": [],
   "source": [
    "#to remove unwanted col Unnamed: 0\n",
    "df.drop('Unnamed: 0',axis=1,inplace=True)"
   ]
  },
  {
   "cell_type": "code",
   "execution_count": 4,
   "id": "324bffd4",
   "metadata": {},
   "outputs": [
    {
     "data": {
      "text/html": [
       "<div>\n",
       "<style scoped>\n",
       "    .dataframe tbody tr th:only-of-type {\n",
       "        vertical-align: middle;\n",
       "    }\n",
       "\n",
       "    .dataframe tbody tr th {\n",
       "        vertical-align: top;\n",
       "    }\n",
       "\n",
       "    .dataframe thead th {\n",
       "        text-align: right;\n",
       "    }\n",
       "</style>\n",
       "<table border=\"1\" class=\"dataframe\">\n",
       "  <thead>\n",
       "    <tr style=\"text-align: right;\">\n",
       "      <th></th>\n",
       "      <th>TV</th>\n",
       "      <th>radio</th>\n",
       "      <th>newspaper</th>\n",
       "      <th>sales</th>\n",
       "    </tr>\n",
       "  </thead>\n",
       "  <tbody>\n",
       "    <tr>\n",
       "      <th>0</th>\n",
       "      <td>230.1</td>\n",
       "      <td>37.8</td>\n",
       "      <td>69.2</td>\n",
       "      <td>22.1</td>\n",
       "    </tr>\n",
       "    <tr>\n",
       "      <th>1</th>\n",
       "      <td>44.5</td>\n",
       "      <td>39.3</td>\n",
       "      <td>45.1</td>\n",
       "      <td>10.4</td>\n",
       "    </tr>\n",
       "    <tr>\n",
       "      <th>2</th>\n",
       "      <td>17.2</td>\n",
       "      <td>45.9</td>\n",
       "      <td>69.3</td>\n",
       "      <td>9.3</td>\n",
       "    </tr>\n",
       "    <tr>\n",
       "      <th>3</th>\n",
       "      <td>151.5</td>\n",
       "      <td>41.3</td>\n",
       "      <td>58.5</td>\n",
       "      <td>18.5</td>\n",
       "    </tr>\n",
       "    <tr>\n",
       "      <th>4</th>\n",
       "      <td>180.8</td>\n",
       "      <td>10.8</td>\n",
       "      <td>58.4</td>\n",
       "      <td>12.9</td>\n",
       "    </tr>\n",
       "  </tbody>\n",
       "</table>\n",
       "</div>"
      ],
      "text/plain": [
       "      TV  radio  newspaper  sales\n",
       "0  230.1   37.8       69.2   22.1\n",
       "1   44.5   39.3       45.1   10.4\n",
       "2   17.2   45.9       69.3    9.3\n",
       "3  151.5   41.3       58.5   18.5\n",
       "4  180.8   10.8       58.4   12.9"
      ]
     },
     "execution_count": 4,
     "metadata": {},
     "output_type": "execute_result"
    }
   ],
   "source": [
    "#to see first 5 values\n",
    "df.head()"
   ]
  },
  {
   "cell_type": "code",
   "execution_count": 5,
   "id": "51ae4815",
   "metadata": {},
   "outputs": [
    {
     "data": {
      "text/plain": [
       "TV           0\n",
       "radio        0\n",
       "newspaper    0\n",
       "sales        0\n",
       "dtype: int64"
      ]
     },
     "execution_count": 5,
     "metadata": {},
     "output_type": "execute_result"
    }
   ],
   "source": [
    "#to see null values\n",
    "df.isnull().sum()"
   ]
  },
  {
   "cell_type": "code",
   "execution_count": 6,
   "id": "4ad8ba6d",
   "metadata": {},
   "outputs": [
    {
     "data": {
      "image/png": "[encoded data removed]",
      "text/plain": [
       "<Figure size 432x288 with 2 Axes>"
      ]
     },
     "metadata": {
      "needs_background": "light"
     },
     "output_type": "display_data"
    }
   ],
   "source": [
    "#to see null values visually \n",
    "sb.heatmap(df.isnull())\n",
    "plt.show()"
   ]
  },
  {
   "cell_type": "code",
   "execution_count": 7,
   "id": "61f6c4b7",
   "metadata": {},
   "outputs": [
    {
     "data": {
      "image/png": "[encoded data removed]",
      "text/plain": [
       "<Figure size 432x288 with 1 Axes>"
      ]
     },
     "metadata": {
      "needs_background": "light"
     },
     "output_type": "display_data"
    }
   ],
   "source": [
    "#to see if there's any outlier\n",
    "sb.boxplot(data=df,x='sales')\n",
    "plt.show()"
   ]
  },
  {
   "cell_type": "code",
   "execution_count": 8,
   "id": "28d79403",
   "metadata": {},
   "outputs": [
    {
     "data": {
      "text/plain": [
       "-0.06985336213274573"
      ]
     },
     "execution_count": 8,
     "metadata": {},
     "output_type": "execute_result"
    }
   ],
   "source": [
    "#to see the skewness \n",
    "df['TV'].skew()"
   ]
  },
  {
   "cell_type": "code",
   "execution_count": 9,
   "id": "12827550",
   "metadata": {},
   "outputs": [],
   "source": [
    "#to perform modeling\n",
    "#input to be TV and output to be sales,apply simple linear regression\n",
    "#to select our input and output\n",
    "X=df[['TV']] #input to be always 2d \n",
    "Y=df['sales'] #output to be always 1d"
   ]
  },
  {
   "cell_type": "code",
   "execution_count": 10,
   "id": "e8410312",
   "metadata": {},
   "outputs": [
    {
     "data": {
      "text/html": [
       "<div>\n",
       "<style scoped>\n",
       "    .dataframe tbody tr th:only-of-type {\n",
       "        vertical-align: middle;\n",
       "    }\n",
       "\n",
       "    .dataframe tbody tr th {\n",
       "        vertical-align: top;\n",
       "    }\n",
       "\n",
       "    .dataframe thead th {\n",
       "        text-align: right;\n",
       "    }\n",
       "</style>\n",
       "<table border=\"1\" class=\"dataframe\">\n",
       "  <thead>\n",
       "    <tr style=\"text-align: right;\">\n",
       "      <th></th>\n",
       "      <th>TV</th>\n",
       "    </tr>\n",
       "  </thead>\n",
       "  <tbody>\n",
       "    <tr>\n",
       "      <th>0</th>\n",
       "      <td>230.1</td>\n",
       "    </tr>\n",
       "    <tr>\n",
       "      <th>1</th>\n",
       "      <td>44.5</td>\n",
       "    </tr>\n",
       "    <tr>\n",
       "      <th>2</th>\n",
       "      <td>17.2</td>\n",
       "    </tr>\n",
       "    <tr>\n",
       "      <th>3</th>\n",
       "      <td>151.5</td>\n",
       "    </tr>\n",
       "    <tr>\n",
       "      <th>4</th>\n",
       "      <td>180.8</td>\n",
       "    </tr>\n",
       "  </tbody>\n",
       "</table>\n",
       "</div>"
      ],
      "text/plain": [
       "      TV\n",
       "0  230.1\n",
       "1   44.5\n",
       "2   17.2\n",
       "3  151.5\n",
       "4  180.8"
      ]
     },
     "execution_count": 10,
     "metadata": {},
     "output_type": "execute_result"
    }
   ],
   "source": [
    "X.head()"
   ]
  },
  {
   "cell_type": "code",
   "execution_count": 11,
   "id": "f70934b0",
   "metadata": {},
   "outputs": [
    {
     "data": {
      "text/plain": [
       "0    22.1\n",
       "1    10.4\n",
       "2     9.3\n",
       "3    18.5\n",
       "4    12.9\n",
       "Name: sales, dtype: float64"
      ]
     },
     "execution_count": 11,
     "metadata": {},
     "output_type": "execute_result"
    }
   ],
   "source": [
    "Y.head()"
   ]
  },
  {
   "cell_type": "code",
   "execution_count": 12,
   "id": "7325ba86",
   "metadata": {},
   "outputs": [],
   "source": [
    "#split data into 70% for training and 30% for testing\n",
    "from sklearn.model_selection import train_test_split\n",
    "X_train,X_test,Y_train,Y_test=train_test_split(X,Y,test_size=0.3,random_state=1)"
   ]
  },
  {
   "cell_type": "code",
   "execution_count": 13,
   "id": "518e29a0",
   "metadata": {},
   "outputs": [
    {
     "data": {
      "text/html": [
       "<div>\n",
       "<style scoped>\n",
       "    .dataframe tbody tr th:only-of-type {\n",
       "        vertical-align: middle;\n",
       "    }\n",
       "\n",
       "    .dataframe tbody tr th {\n",
       "        vertical-align: top;\n",
       "    }\n",
       "\n",
       "    .dataframe thead th {\n",
       "        text-align: right;\n",
       "    }\n",
       "</style>\n",
       "<table border=\"1\" class=\"dataframe\">\n",
       "  <thead>\n",
       "    <tr style=\"text-align: right;\">\n",
       "      <th></th>\n",
       "      <th>TV</th>\n",
       "    </tr>\n",
       "  </thead>\n",
       "  <tbody>\n",
       "    <tr>\n",
       "      <th>116</th>\n",
       "      <td>139.2</td>\n",
       "    </tr>\n",
       "    <tr>\n",
       "      <th>67</th>\n",
       "      <td>139.3</td>\n",
       "    </tr>\n",
       "    <tr>\n",
       "      <th>78</th>\n",
       "      <td>5.4</td>\n",
       "    </tr>\n",
       "    <tr>\n",
       "      <th>42</th>\n",
       "      <td>293.6</td>\n",
       "    </tr>\n",
       "    <tr>\n",
       "      <th>17</th>\n",
       "      <td>281.4</td>\n",
       "    </tr>\n",
       "  </tbody>\n",
       "</table>\n",
       "</div>"
      ],
      "text/plain": [
       "        TV\n",
       "116  139.2\n",
       "67   139.3\n",
       "78     5.4\n",
       "42   293.6\n",
       "17   281.4"
      ]
     },
     "execution_count": 13,
     "metadata": {},
     "output_type": "execute_result"
    }
   ],
   "source": [
    "X_train.head()"
   ]
  },
  {
   "cell_type": "code",
   "execution_count": 14,
   "id": "ba36a264",
   "metadata": {},
   "outputs": [],
   "source": [
    "#to perform Scaling\n",
    "#apply MinMaxScaler on input variable X\n",
    "from sklearn.preprocessing import MinMaxScaler\n",
    "#create an object \n",
    "mns=MinMaxScaler()\n",
    "X_train=mns.fit_transform(X_train)\n",
    "X_test=mns.transform(X_test)"
   ]
  },
  {
   "cell_type": "code",
   "execution_count": 16,
   "id": "df86b717",
   "metadata": {},
   "outputs": [
    {
     "data": {
      "text/plain": [
       "array([[0.46838011],\n",
       "       [0.4687183 ],\n",
       "       [0.01589449],\n",
       "       [0.99053094],\n",
       "       [0.94927291],\n",
       "       [0.02705445],\n",
       "       [0.26885357],\n",
       "       [0.46398377],\n",
       "       [0.76597903],\n",
       "       [0.10415962],\n",
       "       [0.88603314],\n",
       "       [0.71964829],\n",
       "       [0.97024011],\n",
       "       [0.03719986],\n",
       "       [0.05816706],\n",
       "       [0.70645925],\n",
       "       [0.07811972],\n",
       "       [0.25600271],\n",
       "       [0.84612783],\n",
       "       [0.47548191],\n",
       "       [0.63273588],\n",
       "       [0.45180927],\n",
       "       [0.80858979],\n",
       "       [0.75515725],\n",
       "       [0.25295908],\n",
       "       [0.32735881],\n",
       "       [0.25228272],\n",
       "       [0.02603991],\n",
       "       [0.64389584],\n",
       "       [0.58978695],\n",
       "       [0.45485289],\n",
       "       [0.90023673],\n",
       "       [0.2874535 ],\n",
       "       [0.46939466],\n",
       "       [0.57693608],\n",
       "       [0.63307406],\n",
       "       [0.12681772],\n",
       "       [0.59621238],\n",
       "       [0.12614136],\n",
       "       [0.56712885],\n",
       "       [0.05478526],\n",
       "       [0.80047345],\n",
       "       [0.09435238],\n",
       "       [0.66587758],\n",
       "       [0.0557998 ],\n",
       "       [0.67095029],\n",
       "       [0.65099763],\n",
       "       [0.94690565],\n",
       "       [0.19208657],\n",
       "       [0.59181603],\n",
       "       [0.77578627],\n",
       "       [0.01149814],\n",
       "       [0.40514034],\n",
       "       [0.23097734],\n",
       "       [0.67027393],\n",
       "       [0.69699019],\n",
       "       [0.2962462 ],\n",
       "       [0.        ],\n",
       "       [0.30098072],\n",
       "       [0.80689888],\n",
       "       [0.71931011],\n",
       "       [0.73385188],\n",
       "       [0.82008793],\n",
       "       [0.58099425],\n",
       "       [0.35136963],\n",
       "       [0.37199865],\n",
       "       [0.52722354],\n",
       "       [0.4721001 ],\n",
       "       [0.39398039],\n",
       "       [0.2211701 ],\n",
       "       [0.32634427],\n",
       "       [0.22894826],\n",
       "       [0.18769023],\n",
       "       [0.74974636],\n",
       "       [0.29252621],\n",
       "       [0.76969902],\n",
       "       [0.02401082],\n",
       "       [0.67331755],\n",
       "       [0.16672303],\n",
       "       [0.8031789 ],\n",
       "       [0.40683125],\n",
       "       [0.16097396],\n",
       "       [0.81501522],\n",
       "       [0.96482922],\n",
       "       [0.44098749],\n",
       "       [0.65843761],\n",
       "       [0.59621238],\n",
       "       [0.550558  ],\n",
       "       [0.86134596],\n",
       "       [0.25600271],\n",
       "       [0.72945553],\n",
       "       [0.4808928 ],\n",
       "       [0.0906324 ],\n",
       "       [0.69732837],\n",
       "       [0.20831924],\n",
       "       [0.50997633],\n",
       "       [0.95908015],\n",
       "       [0.22387555],\n",
       "       [0.14879946],\n",
       "       [0.89448766],\n",
       "       [0.13121407],\n",
       "       [0.98816368],\n",
       "       [0.06121069],\n",
       "       [0.25160636],\n",
       "       [0.93405479],\n",
       "       [0.02671627],\n",
       "       [0.17855935],\n",
       "       [0.74264457],\n",
       "       [0.1481231 ],\n",
       "       [0.4582347 ],\n",
       "       [0.04227257],\n",
       "       [0.88129861],\n",
       "       [0.3449442 ],\n",
       "       [0.4041258 ],\n",
       "       [0.31619885],\n",
       "       [0.65268854],\n",
       "       [0.25566452],\n",
       "       [0.66587758],\n",
       "       [0.80047345],\n",
       "       [0.67331755],\n",
       "       [0.74332093],\n",
       "       [0.50422726],\n",
       "       [0.31518431],\n",
       "       [0.62292864],\n",
       "       [0.80960433],\n",
       "       [1.        ],\n",
       "       [0.73621914],\n",
       "       [0.93337842],\n",
       "       [0.8867095 ],\n",
       "       [0.12242137],\n",
       "       [0.36895502],\n",
       "       [0.19918837],\n",
       "       [0.32296246],\n",
       "       [0.0557998 ],\n",
       "       [0.38992222],\n",
       "       [0.74095367],\n",
       "       [0.92323301],\n",
       "       [0.08826513],\n",
       "       [0.24585729],\n",
       "       [0.25025364]])"
      ]
     },
     "execution_count": 16,
     "metadata": {},
     "output_type": "execute_result"
    }
   ],
   "source": [
    "X_train"
   ]
  },
  {
   "cell_type": "code",
   "execution_count": 18,
   "id": "72732422",
   "metadata": {},
   "outputs": [
    {
     "data": {
      "text/plain": [
       "(200, 200)"
      ]
     },
     "execution_count": 18,
     "metadata": {},
     "output_type": "execute_result"
    }
   ],
   "source": [
    "len(X),len(Y)"
   ]
  },
  {
   "cell_type": "code",
   "execution_count": 20,
   "id": "32465ab1",
   "metadata": {},
   "outputs": [],
   "source": [
    "#to perform simple linear regression lets import LinearRegression\n",
    "from sklearn.linear_model import LinearRegression"
   ]
  },
  {
   "cell_type": "code",
   "execution_count": 22,
   "id": "0aadb703",
   "metadata": {},
   "outputs": [],
   "source": [
    "#to create an object for LinearRegression\n",
    "lr=LinearRegression()"
   ]
  },
  {
   "cell_type": "code",
   "execution_count": 24,
   "id": "76c789e3",
   "metadata": {},
   "outputs": [
    {
     "data": {
      "text/plain": [
       "LinearRegression()"
      ]
     },
     "execution_count": 24,
     "metadata": {},
     "output_type": "execute_result"
    }
   ],
   "source": [
    "#to train the model,use fit() method \n",
    "lr.fit(X_train,Y_train)"
   ]
  },
  {
   "cell_type": "code",
   "execution_count": 26,
   "id": "6d5a2f6b",
   "metadata": {},
   "outputs": [
    {
     "name": "stdout",
     "output_type": "stream",
     "text": [
      "Slope:  [14.22968771]\n"
     ]
    }
   ],
   "source": [
    "#check slope/gradient/coefficient , use coef_\n",
    "m=lr.coef_\n",
    "print('Slope: ',m)"
   ]
  },
  {
   "cell_type": "code",
   "execution_count": 28,
   "id": "fc1365ed",
   "metadata": {},
   "outputs": [
    {
     "name": "stdout",
     "output_type": "stream",
     "text": [
      "Intercept:  6.957204965199124\n"
     ]
    }
   ],
   "source": [
    "#to check intercept , we use intercept_\n",
    "c=lr.intercept_\n",
    "print('Intercept: ',c)"
   ]
  },
  {
   "cell_type": "code",
   "execution_count": 30,
   "id": "a742281e",
   "metadata": {},
   "outputs": [
    {
     "data": {
      "text/plain": [
       "array([17.06764591, 16.66823297, 11.52879892, 20.4073156 , 19.1368937 ,\n",
       "       20.57093054, 14.78184893, 15.62398466, 10.32093567, 17.2890073 ,\n",
       "       14.83959538, 10.25356482, 17.25532187, 12.20731971, 17.78947654,\n",
       "       12.97246017, 13.26119242, 20.91259704,  8.1554438 , 17.06283371,\n",
       "       11.75497252, 10.18619396,  8.13138278, 12.09182681, 12.35649804,\n",
       "       15.98971218,  8.99757953, 18.89628349, 14.95027608, 18.47762173,\n",
       "       18.46799732, 18.2081383 , 14.12738917, 15.11389102, 18.87703468,\n",
       "       15.82128503, 17.62586159, 13.15051172, 17.35637816,  7.86671155,\n",
       "        7.55391828, 11.2737521 ,  7.82340171, 16.74522823,  7.27481044,\n",
       "       14.01189627, 10.68666319, 17.89534503, 16.78853807, 17.96752809,\n",
       "       20.864475  , 12.84734286,  7.85708714, 15.71060434, 19.70473379,\n",
       "       14.89252963, 17.43818563,  8.12657058, 18.0926454 ,  8.99276733])"
      ]
     },
     "execution_count": 30,
     "metadata": {},
     "output_type": "execute_result"
    }
   ],
   "source": [
    "#testing model with 30% data X_test\n",
    "#we use inbuilt method predict() of lr \n",
    "Y_pred=lr.predict(X_test)\n",
    "Y_pred"
   ]
  },
  {
   "cell_type": "code",
   "execution_count": 34,
   "id": "bdf1caa1",
   "metadata": {},
   "outputs": [
    {
     "data": {
      "text/html": [
       "<div>\n",
       "<style scoped>\n",
       "    .dataframe tbody tr th:only-of-type {\n",
       "        vertical-align: middle;\n",
       "    }\n",
       "\n",
       "    .dataframe tbody tr th {\n",
       "        vertical-align: top;\n",
       "    }\n",
       "\n",
       "    .dataframe thead th {\n",
       "        text-align: right;\n",
       "    }\n",
       "</style>\n",
       "<table border=\"1\" class=\"dataframe\">\n",
       "  <thead>\n",
       "    <tr style=\"text-align: right;\">\n",
       "      <th></th>\n",
       "      <th>Actual Output</th>\n",
       "      <th>Predicted Output</th>\n",
       "    </tr>\n",
       "  </thead>\n",
       "  <tbody>\n",
       "    <tr>\n",
       "      <th>58</th>\n",
       "      <td>23.8</td>\n",
       "      <td>17.067646</td>\n",
       "    </tr>\n",
       "    <tr>\n",
       "      <th>40</th>\n",
       "      <td>16.6</td>\n",
       "      <td>16.668233</td>\n",
       "    </tr>\n",
       "    <tr>\n",
       "      <th>34</th>\n",
       "      <td>9.5</td>\n",
       "      <td>11.528799</td>\n",
       "    </tr>\n",
       "    <tr>\n",
       "      <th>102</th>\n",
       "      <td>14.8</td>\n",
       "      <td>20.407316</td>\n",
       "    </tr>\n",
       "    <tr>\n",
       "      <th>184</th>\n",
       "      <td>17.6</td>\n",
       "      <td>19.136894</td>\n",
       "    </tr>\n",
       "  </tbody>\n",
       "</table>\n",
       "</div>"
      ],
      "text/plain": [
       "     Actual Output  Predicted Output\n",
       "58            23.8         17.067646\n",
       "40            16.6         16.668233\n",
       "34             9.5         11.528799\n",
       "102           14.8         20.407316\n",
       "184           17.6         19.136894"
      ]
     },
     "execution_count": 34,
     "metadata": {},
     "output_type": "execute_result"
    }
   ],
   "source": [
    "#to compare Y_test with Y_pred , create a dictionary\n",
    "dict={'Actual Output':Y_test,'Predicted Output':Y_pred}\n",
    "#convert into df\n",
    "df1=pd.DataFrame(dict)\n",
    "df1.head()"
   ]
  },
  {
   "cell_type": "code",
   "execution_count": 40,
   "id": "c4cdfc05",
   "metadata": {},
   "outputs": [
    {
     "name": "stdout",
     "output_type": "stream",
     "text": [
      "mean_squared_error :  10.571057434656955\n"
     ]
    }
   ],
   "source": [
    "#evaluation of model \n",
    "#find mse\n",
    "from sklearn.metrics import mean_squared_error\n",
    "mse=mean_squared_error(Y_test,Y_pred)\n",
    "print('mean_squared_error : ',mse)"
   ]
  },
  {
   "cell_type": "code",
   "execution_count": 42,
   "id": "0a281861",
   "metadata": {},
   "outputs": [
    {
     "name": "stdout",
     "output_type": "stream",
     "text": [
      "root_mean_squared_error :  3.251316261863333\n"
     ]
    }
   ],
   "source": [
    "#to find root_mean_squared_error\n",
    "rmse=np.sqrt(mse)\n",
    "print('root_mean_squared_error : ',rmse)"
   ]
  },
  {
   "cell_type": "code",
   "execution_count": 44,
   "id": "2b5ae204",
   "metadata": {},
   "outputs": [
    {
     "name": "stdout",
     "output_type": "stream",
     "text": [
      "r2_score :  0.575061860494331\n"
     ]
    }
   ],
   "source": [
    "#to check accuracy , we use r2_score\n",
    "from sklearn.metrics import r2_score\n",
    "print(\"r2_score : \",r2_score(Y_test,Y_pred))"
   ]
  },
  {
   "cell_type": "code",
   "execution_count": 45,
   "id": "bcea2ed6",
   "metadata": {},
   "outputs": [],
   "source": [
    "#we can see its near to just above 0.5 , so model is ubderfit and just average ,as the score should be more towards 1"
   ]
  }
 ],
 "metadata": {
  "kernelspec": {
   "display_name": "Python 3 (ipykernel)",
   "language": "python",
   "name": "python3"
  },
  "language_info": {
   "codemirror_mode": {
    "name": "ipython",
    "version": 3
   },
   "file_extension": ".py",
   "mimetype": "text/x-python",
   "name": "python",
   "nbconvert_exporter": "python",
   "pygments_lexer": "ipython3",
   "version": "3.9.12"
  }
 },
 "nbformat": 4,
 "nbformat_minor": 5
}
